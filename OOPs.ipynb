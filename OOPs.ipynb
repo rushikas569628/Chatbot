{
 "cells": [
  {
   "cell_type": "markdown",
   "id": "b51ef112-3926-4d2c-b3ac-0a794f2a9764",
   "metadata": {},
   "source": [
    "#### Created Employee class and objects(emp1,emp2)"
   ]
  },
  {
   "cell_type": "code",
   "execution_count": 46,
   "id": "bc56a03b-3032-446c-8098-85d3a12c5b14",
   "metadata": {},
   "outputs": [],
   "source": [
    "# 1.created an employee class\n",
    "# 1. objects are replica of class like emp1,emp2,emp3...\n",
    "class Employee:\n",
    "    pass\n",
    "    "
   ]
  },
  {
   "cell_type": "code",
   "execution_count": 47,
   "id": "9872af5f-786f-4493-a12d-e8dd4b975333",
   "metadata": {},
   "outputs": [
    {
     "name": "stdout",
     "output_type": "stream",
     "text": [
      "<__main__.Employee object at 0x10979f440> <__main__.Employee object at 0x108892120>\n"
     ]
    }
   ],
   "source": [
    "# 1. to access that Employee class\n",
    "emp1=Employee()\n",
    "emp2=Employee()\n",
    "\n",
    "print(emp1,emp2)"
   ]
  },
  {
   "cell_type": "markdown",
   "id": "1c25faa7-b3d5-4cfc-9999-294d8f8736cd",
   "metadata": {},
   "source": [
    "#### Added Data to objects"
   ]
  },
  {
   "cell_type": "code",
   "execution_count": 49,
   "id": "e88e6c78-fdc8-4b92-bed5-73d8c4f44e30",
   "metadata": {},
   "outputs": [],
   "source": [
    "class Employee:\n",
    "    # __init__()-->is a constructor runs automatically when on object created,Assign attributes to objects\n",
    "    # self-->current object\n",
    "    def __init__(self,emp_name,emp_age):\n",
    "        #Attributes\n",
    "        self.name=emp_name\n",
    "        self.age=emp_age  "
   ]
  },
  {
   "cell_type": "code",
   "execution_count": 50,
   "id": "620b5740-dd2f-4839-808f-a443d8edf9b2",
   "metadata": {},
   "outputs": [
    {
     "name": "stdout",
     "output_type": "stream",
     "text": [
      "emp1:Rushika\n",
      "emp2:20\n"
     ]
    }
   ],
   "source": [
    "emp1=Employee(\"Rushika\",23)\n",
    "emp2=Employee(\"Reddy\",20)\n",
    "\n",
    "print(f\"emp1:{emp1.name}\") #the attribute inside the object is name, not emp_name\n",
    "print(f\"emp2:{emp2.age}\")"
   ]
  },
  {
   "cell_type": "markdown",
   "id": "b432ddf4-771d-4043-b0f4-bbb143a704f6",
   "metadata": {},
   "source": [
    "#### Add methods"
   ]
  },
  {
   "cell_type": "code",
   "execution_count": 56,
   "id": "77af5bf6-231e-40bb-bb04-6bcd9ae4dca5",
   "metadata": {},
   "outputs": [],
   "source": [
    "class Employee:\n",
    "    def __init__(self,emp_name,emp_age):\n",
    "        self.name=emp_name\n",
    "        self.age=emp_age\n",
    "\n",
    "    def say_hello(self):\n",
    "        print(f\"i am {self.name}.my age is {self.age}\")\n",
    "    #  o/p:\n",
    "    \"\"\"\n",
    "    i am Rushika.my age is 10\n",
    "    None\n",
    "    \"\"\"\n",
    "    # def say_hello(self):\n",
    "    #     return(f\"i am {self.name}.my age is {self.age}\")"
   ]
  },
  {
   "cell_type": "code",
   "execution_count": 58,
   "id": "4997b6cc-cbe2-40b3-919f-26922bf86bc3",
   "metadata": {},
   "outputs": [
    {
     "data": {
      "text/plain": [
       "'i am Rushika.my age is 10'"
      ]
     },
     "execution_count": 58,
     "metadata": {},
     "output_type": "execute_result"
    }
   ],
   "source": [
    "emp1=Employee(\"Rushika\",10)\n",
    "emp1.say_hello()\n",
    "# print(emp1.say_hello())"
   ]
  },
  {
   "cell_type": "markdown",
   "id": "45d97374-d9ac-42d4-9f62-a5c844e63bfa",
   "metadata": {},
   "source": [
    "#### Modify logic inside methods"
   ]
  },
  {
   "cell_type": "code",
   "execution_count": 70,
   "id": "2deffd21-fbbf-4303-a3a5-19f5deeb502e",
   "metadata": {},
   "outputs": [],
   "source": [
    "class Employee:\n",
    "    def __init__(self,emp_name=None,emp_age=None):\n",
    "        self.name=emp_name\n",
    "        self.age=emp_age\n",
    "\n",
    "    def say_hello(self):\n",
    "        return f\"Hi!My name is {self.name} and my age is {self.age}\"\n",
    "\n",
    "    def update_age(self,new_Age):\n",
    "        self.age=new_Age\n",
    "        "
   ]
  },
  {
   "cell_type": "code",
   "execution_count": 69,
   "id": "d9ce9e97-8a45-4ab4-80d5-890eae01cd00",
   "metadata": {},
   "outputs": [
    {
     "name": "stdout",
     "output_type": "stream",
     "text": [
      "Hi!My name is Rushika and my age is 23\n"
     ]
    }
   ],
   "source": [
    "emp2=Employee(\"Rushika\",20)\n",
    "emp2.update_age(23)\n",
    "print(emp2.say_hello())"
   ]
  },
  {
   "cell_type": "markdown",
   "id": "03775235-3f79-44f0-a7ed-f6fe59ccc605",
   "metadata": {},
   "source": [
    "#### Attributes :\n",
    "1. Class Variables\n",
    "2. Instance Variables\n",
    "\n",
    "### ClassVariables\n",
    "- Defined: inside class outside methods\n",
    "- Shared across all objects\n",
    "### InstanceVariables\n",
    "- Defined: inside __init__()\n",
    "- different for every object"
   ]
  },
  {
   "cell_type": "markdown",
   "id": "3beb78df-0377-40fd-af24-32b93c4a2972",
   "metadata": {},
   "source": [
    "#### Class Variables"
   ]
  },
  {
   "cell_type": "code",
   "execution_count": 85,
   "id": "1b943ef6-991d-4c37-8f3f-e30da2cfd91e",
   "metadata": {},
   "outputs": [],
   "source": [
    "class Employee:\n",
    "    # Class Variables\n",
    "    emp_company=\"Google\"\n",
    "    def __init__(self,emp_name):\n",
    "        #instance Variables\n",
    "        self.name=emp_name\n",
    "\n",
    "    # Access classVariables inside methods\n",
    "    def say_hello(self):\n",
    "        return (f\"My name is {self.name}.i am working at {Employee.emp_company}\")"
   ]
  },
  {
   "cell_type": "code",
   "execution_count": 86,
   "id": "84e06321-89a0-4b7f-a88a-62fd9e73ac51",
   "metadata": {},
   "outputs": [
    {
     "name": "stdout",
     "output_type": "stream",
     "text": [
      "My name is rani.i am working at Google\n"
     ]
    }
   ],
   "source": [
    "emp3=Employee(\"rani\")\n",
    "print(emp3.say_hello())"
   ]
  },
  {
   "cell_type": "markdown",
   "id": "a68af974-5620-4882-a76a-2ac48c358228",
   "metadata": {},
   "source": [
    "#### Instance Variables"
   ]
  },
  {
   "cell_type": "code",
   "execution_count": 87,
   "id": "067deb59-0136-4717-9f40-161b9630f998",
   "metadata": {},
   "outputs": [],
   "source": [
    "class Employee:\n",
    "    def __init__(self,emp_name,emp_company):\n",
    "        self.name=emp_name\n",
    "        self.company=emp_company\n",
    "\n",
    "    def say_hello(self):\n",
    "        return (f\"Hi My name is {self.name}.I am working at {self.company}\")"
   ]
  },
  {
   "cell_type": "code",
   "execution_count": 89,
   "id": "5d441bcb-8107-4bb0-bf05-5f131c2f5846",
   "metadata": {},
   "outputs": [
    {
     "name": "stdout",
     "output_type": "stream",
     "text": [
      "Hi My name is Raju.I am working at Amazon\n"
     ]
    }
   ],
   "source": [
    "emp4=Employee(\"Raju\",\"Amazon\")\n",
    "print(emp4.say_hello())"
   ]
  },
  {
   "cell_type": "markdown",
   "id": "34c3f9f5-e8cf-42f1-971e-80b461a36f09",
   "metadata": {},
   "source": [
    "#### Encapsulation: hide important and reveal what needed\n",
    "self.name=name --> Public Attribute\n",
    "self._name=name --> protected Attribute\n",
    "self.__name=name --> private Attribute"
   ]
  },
  {
   "cell_type": "code",
   "execution_count": 13,
   "id": "7d2d1663-41ed-4857-bb06-56b448b23a5e",
   "metadata": {},
   "outputs": [],
   "source": [
    "class Employee:\n",
    "    def __init__(self,name=None,age=None,salary=None):\n",
    "        self.name = name   # Public attribute\n",
    "        self._age=age # Protected attribute\n",
    "        self.__salary=salary #private attribute"
   ]
  },
  {
   "cell_type": "code",
   "execution_count": 14,
   "id": "a149c11c-382d-4d70-abf4-7c886bdffdba",
   "metadata": {},
   "outputs": [
    {
     "name": "stdout",
     "output_type": "stream",
     "text": [
      "Rushika\n",
      "12\n",
      "34890.9\n"
     ]
    }
   ],
   "source": [
    "emp1 = Employee(\"Rushika\")\n",
    "print(emp1.name)          \n",
    "\n",
    "emp2= Employee(age=12)\n",
    "print(emp2._age)\n",
    "\n",
    "emp3=Employee(salary=34890.90)\n",
    "print(emp3._Employee__salary)"
   ]
  },
  {
   "cell_type": "code",
   "execution_count": null,
   "id": "8a88b10b-c8e7-4c74-a270-005cc07de4c9",
   "metadata": {},
   "outputs": [],
   "source": []
  }
 ],
 "metadata": {
  "kernelspec": {
   "display_name": "Python 3 (ipykernel)",
   "language": "python",
   "name": "python3"
  },
  "language_info": {
   "codemirror_mode": {
    "name": "ipython",
    "version": 3
   },
   "file_extension": ".py",
   "mimetype": "text/x-python",
   "name": "python",
   "nbconvert_exporter": "python",
   "pygments_lexer": "ipython3",
   "version": "3.12.7"
  }
 },
 "nbformat": 4,
 "nbformat_minor": 5
}
