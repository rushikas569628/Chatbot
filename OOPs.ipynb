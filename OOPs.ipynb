{
 "cells": [
  {
   "cell_type": "markdown",
   "id": "b51ef112-3926-4d2c-b3ac-0a794f2a9764",
   "metadata": {},
   "source": [
    "#### Created Employee class and objects(emp1,emp2)"
   ]
  },
  {
   "cell_type": "code",
   "execution_count": 3,
   "id": "bc56a03b-3032-446c-8098-85d3a12c5b14",
   "metadata": {},
   "outputs": [],
   "source": [
    "# 1.created an employee class\n",
    "# 1. objects are replica of class like emp1,emp2,emp3...\n",
    "class Employee:\n",
    "    pass\n",
    "    "
   ]
  },
  {
   "cell_type": "code",
   "execution_count": 4,
   "id": "9872af5f-786f-4493-a12d-e8dd4b975333",
   "metadata": {},
   "outputs": [
    {
     "name": "stdout",
     "output_type": "stream",
     "text": [
      "<__main__.Employee object at 0x10cf1bf20> <__main__.Employee object at 0x10cf1bec0>\n"
     ]
    }
   ],
   "source": [
    "# 1. to access that Employee class\n",
    "emp1=Employee()\n",
    "emp2=Employee()\n",
    "\n",
    "print(emp1,emp2)"
   ]
  },
  {
   "cell_type": "markdown",
   "id": "1c25faa7-b3d5-4cfc-9999-294d8f8736cd",
   "metadata": {},
   "source": [
    "#### Added Data to objects"
   ]
  },
  {
   "cell_type": "code",
   "execution_count": 5,
   "id": "e88e6c78-fdc8-4b92-bed5-73d8c4f44e30",
   "metadata": {},
   "outputs": [],
   "source": [
    "class Employee:\n",
    "    # __init__()-->is a constructor runs automatically when on object created,Assign attributes to objects\n",
    "    # self-->current object\n",
    "    def __init__(self,emp_name,emp_age):\n",
    "        #Attributes\n",
    "        self.name=emp_name\n",
    "        self.age=emp_age  "
   ]
  },
  {
   "cell_type": "code",
   "execution_count": 6,
   "id": "620b5740-dd2f-4839-808f-a443d8edf9b2",
   "metadata": {},
   "outputs": [
    {
     "name": "stdout",
     "output_type": "stream",
     "text": [
      "emp1:Rushika\n",
      "emp2:20\n"
     ]
    }
   ],
   "source": [
    "emp1=Employee(\"Rushika\",23)\n",
    "emp2=Employee(\"Reddy\",20)\n",
    "\n",
    "print(f\"emp1:{emp1.name}\") #the attribute inside the object is name, not emp_name\n",
    "print(f\"emp2:{emp2.age}\")"
   ]
  },
  {
   "cell_type": "markdown",
   "id": "b432ddf4-771d-4043-b0f4-bbb143a704f6",
   "metadata": {},
   "source": [
    "#### Add methods"
   ]
  },
  {
   "cell_type": "code",
   "execution_count": 7,
   "id": "77af5bf6-231e-40bb-bb04-6bcd9ae4dca5",
   "metadata": {},
   "outputs": [],
   "source": [
    "class Employee:\n",
    "    def __init__(self,emp_name,emp_age):\n",
    "        self.name=emp_name\n",
    "        self.age=emp_age\n",
    "\n",
    "    def say_hello(self):\n",
    "        print(f\"i am {self.name}.my age is {self.age}\")\n",
    "    #  o/p:\n",
    "    \"\"\"\n",
    "    i am Rushika.my age is 10\n",
    "    None\n",
    "    \"\"\"\n",
    "    # def say_hello(self):\n",
    "    #     return(f\"i am {self.name}.my age is {self.age}\")"
   ]
  },
  {
   "cell_type": "code",
   "execution_count": 8,
   "id": "4997b6cc-cbe2-40b3-919f-26922bf86bc3",
   "metadata": {},
   "outputs": [
    {
     "name": "stdout",
     "output_type": "stream",
     "text": [
      "i am Rushika.my age is 10\n"
     ]
    }
   ],
   "source": [
    "emp1=Employee(\"Rushika\",10)\n",
    "emp1.say_hello()\n",
    "# print(emp1.say_hello())"
   ]
  },
  {
   "cell_type": "markdown",
   "id": "45d97374-d9ac-42d4-9f62-a5c844e63bfa",
   "metadata": {},
   "source": [
    "#### Modify logic inside methods"
   ]
  },
  {
   "cell_type": "code",
   "execution_count": 9,
   "id": "2deffd21-fbbf-4303-a3a5-19f5deeb502e",
   "metadata": {},
   "outputs": [],
   "source": [
    "class Employee:\n",
    "    def __init__(self,emp_name=None,emp_age=None):\n",
    "        self.name=emp_name\n",
    "        self.age=emp_age\n",
    "\n",
    "    def say_hello(self):\n",
    "        return f\"Hi! My name is {self.name} and my age is {self.age}\"\n",
    "\n",
    "    def update_age(self,new_Age):\n",
    "        self.age=new_Age\n",
    "        "
   ]
  },
  {
   "cell_type": "code",
   "execution_count": 10,
   "id": "d9ce9e97-8a45-4ab4-80d5-890eae01cd00",
   "metadata": {},
   "outputs": [
    {
     "name": "stdout",
     "output_type": "stream",
     "text": [
      "Hi! My name is Rushika and my age is 20\n",
      "Hi! My name is Rushika and my age is 23\n"
     ]
    }
   ],
   "source": [
    "emp2=Employee(\"Rushika\",20)\n",
    "print(emp2.say_hello())\n",
    "emp2.update_age(23)\n",
    "print(emp2.say_hello())"
   ]
  },
  {
   "cell_type": "markdown",
   "id": "03775235-3f79-44f0-a7ed-f6fe59ccc605",
   "metadata": {},
   "source": [
    "#### Attributes :\n",
    "1. Class Variables\n",
    "2. Instance Variables\n",
    "\n",
    "### ClassVariables\n",
    "- Defined: inside class outside methods\n",
    "- Shared across all objects\n",
    "### InstanceVariables\n",
    "- Defined: inside __init__()\n",
    "- different for every object"
   ]
  },
  {
   "cell_type": "markdown",
   "id": "3beb78df-0377-40fd-af24-32b93c4a2972",
   "metadata": {},
   "source": [
    "#### Class Variables"
   ]
  },
  {
   "cell_type": "code",
   "execution_count": 11,
   "id": "1b943ef6-991d-4c37-8f3f-e30da2cfd91e",
   "metadata": {},
   "outputs": [],
   "source": [
    "class Employee:\n",
    "    # Class Variables\n",
    "    emp_company=\"Google\"\n",
    "    def __init__(self,emp_name):\n",
    "        #instance Variables\n",
    "        self.name=emp_name\n",
    "\n",
    "    # Access classVariables inside methods\n",
    "    def say_hello(self):\n",
    "        return (f\"My name is {self.name}.i am working at {Employee.emp_company}\")"
   ]
  },
  {
   "cell_type": "code",
   "execution_count": 12,
   "id": "84e06321-89a0-4b7f-a88a-62fd9e73ac51",
   "metadata": {},
   "outputs": [
    {
     "name": "stdout",
     "output_type": "stream",
     "text": [
      "My name is rani.i am working at Google\n"
     ]
    }
   ],
   "source": [
    "emp3=Employee(\"rani\")\n",
    "print(emp3.say_hello())"
   ]
  },
  {
   "cell_type": "markdown",
   "id": "a68af974-5620-4882-a76a-2ac48c358228",
   "metadata": {},
   "source": [
    "#### Instance Variables"
   ]
  },
  {
   "cell_type": "code",
   "execution_count": 13,
   "id": "067deb59-0136-4717-9f40-161b9630f998",
   "metadata": {},
   "outputs": [],
   "source": [
    "class Employee:\n",
    "    def __init__(self,emp_name,emp_company):\n",
    "        self.name=emp_name\n",
    "        self.company=emp_company\n",
    "\n",
    "    def say_hello(self):\n",
    "        return (f\"Hi My name is {self.name}.I am working at {self.company}\")"
   ]
  },
  {
   "cell_type": "code",
   "execution_count": 14,
   "id": "5d441bcb-8107-4bb0-bf05-5f131c2f5846",
   "metadata": {},
   "outputs": [
    {
     "name": "stdout",
     "output_type": "stream",
     "text": [
      "Hi My name is Raju.I am working at Amazon\n"
     ]
    }
   ],
   "source": [
    "emp4=Employee(\"Raju\",\"Amazon\")\n",
    "print(emp4.say_hello())"
   ]
  },
  {
   "cell_type": "markdown",
   "id": "34c3f9f5-e8cf-42f1-971e-80b461a36f09",
   "metadata": {},
   "source": [
    "#### Encapsulation: hide important and reveal what needed\n",
    "- self.name=name --> Public Attribute\n",
    "- self._name=name --> protected Attribute\n",
    "- self.__name=name --> private Attribute"
   ]
  },
  {
   "cell_type": "code",
   "execution_count": 15,
   "id": "7d2d1663-41ed-4857-bb06-56b448b23a5e",
   "metadata": {},
   "outputs": [],
   "source": [
    "class Employee:\n",
    "    def __init__(self,name=None,age=None,salary=None):\n",
    "        self.name = name   # Public attribute\n",
    "        self._age=age # Protected attribute\n",
    "        self.__salary=salary #private attribute"
   ]
  },
  {
   "cell_type": "code",
   "execution_count": 16,
   "id": "a149c11c-382d-4d70-abf4-7c886bdffdba",
   "metadata": {},
   "outputs": [
    {
     "name": "stdout",
     "output_type": "stream",
     "text": [
      "Rushika\n",
      "12\n",
      "34890.9\n"
     ]
    }
   ],
   "source": [
    "emp1 = Employee(\"Rushika\")\n",
    "print(emp1.name)          \n",
    "\n",
    "emp2= Employee(age=12)\n",
    "print(emp2._age)\n",
    "\n",
    "emp3=Employee(salary=34890.90)\n",
    "print(emp3._Employee__salary)"
   ]
  },
  {
   "cell_type": "code",
   "execution_count": 17,
   "id": "8a88b10b-c8e7-4c74-a270-005cc07de4c9",
   "metadata": {},
   "outputs": [],
   "source": [
    "class BankAccount:\n",
    "    def __init__(self, name, balance):\n",
    "        self.__name = name\n",
    "        self.__balance = balance\n",
    "\n",
    "    def deposit(self, amount):\n",
    "        self.__balance += amount\n",
    "\n",
    "    def get_balance(self):\n",
    "        return self.__balance\n"
   ]
  },
  {
   "cell_type": "code",
   "execution_count": null,
   "id": "e88cef94-3edd-4ccd-ae0a-4d5d07ceb227",
   "metadata": {},
   "outputs": [],
   "source": []
  },
  {
   "cell_type": "code",
   "execution_count": 18,
   "id": "60e21050-aaa0-4d6a-af27-837a7e400580",
   "metadata": {},
   "outputs": [
    {
     "name": "stdout",
     "output_type": "stream",
     "text": [
      "15000\n"
     ]
    }
   ],
   "source": [
    "# Users dont have access to class BankAccount and dont know the add up process for deposit that is what the encapsulationis\n",
    "acc = BankAccount(\"Rushika\", 10000)\n",
    "acc.deposit(5000)           # No need to know *how* it adds, just use it\n",
    "print(acc.get_balance())    # Clean interface\n"
   ]
  },
  {
   "cell_type": "code",
   "execution_count": 19,
   "id": "b3cbc79d-4f87-4e49-a000-dfefef007cbd",
   "metadata": {},
   "outputs": [],
   "source": [
    "class Example:\n",
    "    def __init__(self):\n",
    "        self.data = 10\n",
    "\n",
    "    def public_method(self):\n",
    "        print(\"This is public\")\n",
    "        self.__helper()  # private method used internally\n",
    "\n",
    "    def __helper(self):  # private method\n",
    "        print(\"This runs behind the scenes.\")\n"
   ]
  },
  {
   "cell_type": "code",
   "execution_count": 20,
   "id": "95b4732a-0447-4131-887b-ca456e891ea6",
   "metadata": {},
   "outputs": [
    {
     "name": "stdout",
     "output_type": "stream",
     "text": [
      "This is public\n",
      "This runs behind the scenes.\n"
     ]
    }
   ],
   "source": [
    "e = Example()\n",
    "e.public_method()       # ✅ works\n",
    "# e.__helper()          # ❌ will give AttributeError (it's private)\n",
    "# a separate private method accessed directly results in error where as a private method inside a public method results result"
   ]
  },
  {
   "cell_type": "code",
   "execution_count": 21,
   "id": "3afb7829-8b4a-4bfa-9882-447132a65eb8",
   "metadata": {},
   "outputs": [],
   "source": [
    "class Employee:\n",
    "    def __init__(self,salary):\n",
    "        self.__salary=salary\n",
    "\n",
    "    def getSalary(self):\n",
    "        return self.__salary\n",
    "\n",
    "    def setSalary(self,new_salary):\n",
    "        if new_salary>0:\n",
    "            self.__salary = new_salary\n",
    "        else:\n",
    "            print(\"provide a positive value\")"
   ]
  },
  {
   "cell_type": "code",
   "execution_count": 22,
   "id": "b9aa00a8-7cfb-4470-8626-1feae26c5ed5",
   "metadata": {},
   "outputs": [
    {
     "name": "stdout",
     "output_type": "stream",
     "text": [
      "234567\n",
      "90000\n",
      "provide a positive value\n",
      "90000\n"
     ]
    }
   ],
   "source": [
    "emp4=Employee(234567)\n",
    "\n",
    "print(emp4.getSalary())\n",
    "\n",
    "emp4.setSalary(90000)\n",
    "print(emp4.getSalary())\n",
    "\n",
    "emp4.setSalary(-5000) \n",
    "print(emp4.getSalary())"
   ]
  },
  {
   "cell_type": "markdown",
   "id": "93c974b2-a49d-4688-8ced-072629374f27",
   "metadata": {},
   "source": [
    "#### Inheritance: class(child) to reuse/ extend features(attributes,methods) of other class(parent)\n",
    "- Single Inheritance\n",
    "- Multiple Inheritance\n",
    "- Multilevel Inheritance\n",
    "- Hierarchical Inheritance"
   ]
  },
  {
   "cell_type": "markdown",
   "id": "b1ee89df-454f-4973-a1f9-358dfbd66eaa",
   "metadata": {},
   "source": [
    "#### Single Inheritance: one child inherits from one parent"
   ]
  },
  {
   "cell_type": "code",
   "execution_count": 23,
   "id": "935aa31e-7602-4ab3-8318-3c0649d88174",
   "metadata": {},
   "outputs": [],
   "source": [
    "# Parent class\n",
    "class Person:\n",
    "    def __init__(self,name,age):\n",
    "        self.name=name\n",
    "        self.age=age\n",
    "\n",
    "    def say_hello(self):\n",
    "        return (f\"My name is {self.name} and my age is {self.age}\")"
   ]
  },
  {
   "cell_type": "code",
   "execution_count": 24,
   "id": "0a1ada5c-d7b8-4aa8-8217-0c43b451b77e",
   "metadata": {},
   "outputs": [],
   "source": [
    "# Child Class\n",
    "class Employee(Person):\n",
    "    def __init__(self,name,age,salary):\n",
    "        super().__init__(name,age)\n",
    "        self.salary=salary\n",
    "\n",
    "    def show_details(self):\n",
    "        return (f\"My name is {self.name}, my age is {self.age} and I earn {self.salary}\")\n",
    "        "
   ]
  },
  {
   "cell_type": "code",
   "execution_count": 25,
   "id": "7e42fad6-7c1c-45e3-8198-f500ba2dac9e",
   "metadata": {},
   "outputs": [
    {
     "name": "stdout",
     "output_type": "stream",
     "text": [
      "My name is Rushika, my age is 23 and I earn 908090.9\n",
      "My name is Rushika and my age is 23\n"
     ]
    }
   ],
   "source": [
    "emp=Employee(\"Rushika\",23,908090.90)\n",
    "print(emp.show_details())\n",
    "\n",
    "person=Person(\"Rushika\",23)\n",
    "print(person.say_hello())"
   ]
  },
  {
   "cell_type": "markdown",
   "id": "c271849f-babe-4525-b559-1026279504f3",
   "metadata": {},
   "source": [
    "#### Multilevel Inheritance:child inherits from parent,Grandchild inherits from child"
   ]
  },
  {
   "cell_type": "code",
   "execution_count": 26,
   "id": "7d60cb75-d630-4483-ae9a-d0c3776810c9",
   "metadata": {},
   "outputs": [],
   "source": [
    "class Person:\n",
    "    def __init__(self,name,age):\n",
    "        self.name=name\n",
    "        self.age=age\n",
    "\n",
    "class Employee(Person):\n",
    "    def __init__(self,name,age,salary):\n",
    "        super().__init__(name,age)\n",
    "        self.salary=salary\n",
    "\n",
    "class Manager(Employee):\n",
    "    def __init__(self,name,age,salary,team_size):\n",
    "        super().__init__(name,age,salary)\n",
    "        self.team_size=team_size\n",
    "\n",
    "    def display(self):\n",
    "        return (f\"Name: {self.name}, Age: {self.age}, Salary: {self.salary}, team_size: {self.team_size}\")"
   ]
  },
  {
   "cell_type": "code",
   "execution_count": 27,
   "id": "7fca9048-d797-4e93-99ea-2f1e6ac0c656",
   "metadata": {},
   "outputs": [
    {
     "name": "stdout",
     "output_type": "stream",
     "text": [
      "Name: Rushika, Age: 23, Salary: 13245.435, team_size: 3\n"
     ]
    }
   ],
   "source": [
    "manager=Manager(\"Rushika\",23,13245.435,3)\n",
    "print(manager.display())"
   ]
  },
  {
   "cell_type": "markdown",
   "id": "1560e614-9b12-4236-9afb-39cc770c969e",
   "metadata": {},
   "source": [
    "#### Hierarchical Inheritance : multiple child classes inherit from same parent"
   ]
  },
  {
   "cell_type": "code",
   "execution_count": 28,
   "id": "3f2dfbb1-6bd2-4d26-9911-a1e5aaa45a61",
   "metadata": {},
   "outputs": [],
   "source": [
    "class Person:\n",
    "    def __init__(self,name):\n",
    "        self.name=name\n",
    "\n",
    "class Employee(Person):\n",
    "    def __init__(self,name,age):\n",
    "        super().__init__(name)\n",
    "        self.age=age\n",
    "\n",
    "class Manager(Person):\n",
    "    def __init__(self,name,salary):\n",
    "        super().__init__(name)\n",
    "        self.salary=salary\n",
    "    "
   ]
  },
  {
   "cell_type": "code",
   "execution_count": 29,
   "id": "75d969e1-aaf2-4606-9c3a-8415812475fd",
   "metadata": {},
   "outputs": [
    {
     "name": "stdout",
     "output_type": "stream",
     "text": [
      "Rushika 23\n",
      "Rushika 239090.9\n"
     ]
    }
   ],
   "source": [
    "emp=Employee(\"Rushika\",23)\n",
    "print(emp.name,emp.age)\n",
    "\n",
    "manager=Manager(\"Rushika\",239090.90)\n",
    "print(manager.name,manager.salary)"
   ]
  },
  {
   "cell_type": "code",
   "execution_count": null,
   "id": "dd7ac754-c080-49dd-b90a-2e95494ea52b",
   "metadata": {},
   "outputs": [],
   "source": []
  },
  {
   "cell_type": "code",
   "execution_count": 30,
   "id": "9bf69827-8361-4067-ad95-bc9c21ee3731",
   "metadata": {},
   "outputs": [],
   "source": [
    "class Writer:\n",
    "    def __init__(self):\n",
    "        print(\"Writer initialized\")\n",
    "    \n",
    "    def write(self):\n",
    "        print(\"Writing articles...\")\n",
    "\n",
    "class Speaker:\n",
    "    def __init__(self):\n",
    "        print(\"Speaker initialized\")\n",
    "    \n",
    "    def speak(self):\n",
    "        print(\"Speaking at conferences...\")\n",
    "\n",
    "class Author(Writer, Speaker):\n",
    "    def __init__(self):\n",
    "        super().__init__()        \n",
    "        Speaker.__init__(self)    \n",
    "\n",
    "    def info(self):\n",
    "        print(\"I am an author who writes and speaks.\")\n"
   ]
  },
  {
   "cell_type": "code",
   "execution_count": 31,
   "id": "5042c178-d59d-4897-8fed-2593abce2c15",
   "metadata": {},
   "outputs": [
    {
     "name": "stdout",
     "output_type": "stream",
     "text": [
      "Writer initialized\n",
      "Speaker initialized\n",
      "Writing articles...\n",
      "Speaking at conferences...\n",
      "I am an author who writes and speaks.\n"
     ]
    }
   ],
   "source": [
    "a = Author()\n",
    "a.write()\n",
    "a.speak()\n",
    "a.info()\n"
   ]
  },
  {
   "cell_type": "markdown",
   "id": "8ab86d6d-236e-43eb-a380-92bed590ff17",
   "metadata": {},
   "source": []
  },
  {
   "cell_type": "markdown",
   "id": "303cb735-a3fa-4909-bfea-d13d856b22f8",
   "metadata": {},
   "source": [
    "#### Method Overriding:\n",
    "A child class defines a method in its version but already its defined in parent version"
   ]
  },
  {
   "cell_type": "code",
   "execution_count": 36,
   "id": "57cdb7a5-7bb9-4ea1-a41e-ab1945a58e86",
   "metadata": {},
   "outputs": [],
   "source": [
    "class Person:\n",
    "    def display(self):\n",
    "        return (\"Hi,I am person\")\n",
    "\n",
    "class Employee:\n",
    "    def display(self):\n",
    "        return (\"Hi,I am Employee\")"
   ]
  },
  {
   "cell_type": "code",
   "execution_count": 37,
   "id": "0afc7be3-4d55-41fb-81ea-fa09778f9787",
   "metadata": {},
   "outputs": [
    {
     "name": "stdout",
     "output_type": "stream",
     "text": [
      "Hi,I am person\n",
      "Hi,I am Employee\n"
     ]
    }
   ],
   "source": [
    "person=Person()\n",
    "print(person.display())\n",
    "\n",
    "emp=Employee()\n",
    "print(emp.display())"
   ]
  },
  {
   "cell_type": "code",
   "execution_count": 41,
   "id": "3864282a-34a2-4ac4-9f85-ce06396a4d61",
   "metadata": {},
   "outputs": [
    {
     "name": "stdout",
     "output_type": "stream",
     "text": [
      "Hi,I am person\n",
      "And I work as an employee.\n"
     ]
    }
   ],
   "source": [
    "# to access parent method in child we will use SUPER().METHOD_NAME\n",
    "class Person:\n",
    "    def greet(self):\n",
    "        print(\"Hi,I am person\")\n",
    "        \n",
    "class Employee(Person):\n",
    "    def greet(self):\n",
    "        super().greet()    \n",
    "        print(\"And I work as an employee.\")\n",
    "\n",
    "emp=Employee()\n",
    "emp.greet()"
   ]
  },
  {
   "cell_type": "markdown",
   "id": "66362e15-dfb5-437d-b660-11621dd1fd72",
   "metadata": {},
   "source": [
    "#### Polymorphism: same method on different objects"
   ]
  },
  {
   "cell_type": "code",
   "execution_count": 47,
   "id": "762a20e0-b136-43e5-aec5-78499ba8d609",
   "metadata": {},
   "outputs": [],
   "source": [
    "class Dog:\n",
    "    def speak(self):\n",
    "        print(\"bow bow\")\n",
    "\n",
    "class Cat:\n",
    "    def speak(self):\n",
    "        print(\"Meow Meow\")\n",
    "\n",
    "def animal_sound(animal):\n",
    "    animal.speak()"
   ]
  },
  {
   "cell_type": "code",
   "execution_count": 48,
   "id": "7e90b8af-3f39-4d13-8d1f-99f2f3f80865",
   "metadata": {},
   "outputs": [
    {
     "name": "stdout",
     "output_type": "stream",
     "text": [
      "bow bow\n",
      "Meow Meow\n"
     ]
    }
   ],
   "source": [
    "d=Dog()\n",
    "animal_sound(d)\n",
    "\n",
    "c=Cat()\n",
    "animal_sound(c)"
   ]
  },
  {
   "cell_type": "code",
   "execution_count": 51,
   "id": "b900572c-24b3-434b-9d2a-7491203ec4fe",
   "metadata": {},
   "outputs": [
    {
     "name": "stdout",
     "output_type": "stream",
     "text": [
      "bow bow\n",
      "bow bow\n",
      "Meow Meow\n"
     ]
    }
   ],
   "source": [
    "class Dog:\n",
    "    def speak(self):\n",
    "        print(\"bow bow\")\n",
    "\n",
    "class Cat(Dog):\n",
    "    def speak(self):\n",
    "        super().speak()\n",
    "        print(\"Meow Meow\")\n",
    "        \n",
    "# d=Dog()\n",
    "# d.speak()\n",
    "c=Cat()\n",
    "c.speak()"
   ]
  },
  {
   "cell_type": "code",
   "execution_count": 53,
   "id": "ccf809f0-ead4-4256-b789-8530b16c66ac",
   "metadata": {},
   "outputs": [
    {
     "name": "stdout",
     "output_type": "stream",
     "text": [
      "I am a person named Rushika\n",
      "I am a person named Rushika\n",
      "I am a student named (self.name)\n"
     ]
    }
   ],
   "source": [
    "class Person:\n",
    "    def __init__(self,name):\n",
    "        self.name=name\n",
    "\n",
    "    def describe(self):\n",
    "        print(f\"I am a person named {self.name}\")\n",
    "\n",
    "class Student(Person):\n",
    "    def describe(self):\n",
    "        super().describe()\n",
    "        print(f\"I am a student named (self.name)\")\n",
    "\n",
    "\n",
    "p = Person(\"Rushika\")\n",
    "p.describe()\n",
    "# Output: I am a person named Rushika\n",
    "\n",
    "s = Student(\"Rushika\")\n",
    "s.describe()\n",
    "# Output: I am a person named Rushika\n",
    "#         I am currently studying."
   ]
  },
  {
   "cell_type": "code",
   "execution_count": null,
   "id": "5430d681-0e8f-45a2-9215-82586460eeee",
   "metadata": {},
   "outputs": [],
   "source": []
  }
 ],
 "metadata": {
  "kernelspec": {
   "display_name": "Python 3 (ipykernel)",
   "language": "python",
   "name": "python3"
  },
  "language_info": {
   "codemirror_mode": {
    "name": "ipython",
    "version": 3
   },
   "file_extension": ".py",
   "mimetype": "text/x-python",
   "name": "python",
   "nbconvert_exporter": "python",
   "pygments_lexer": "ipython3",
   "version": "3.12.7"
  }
 },
 "nbformat": 4,
 "nbformat_minor": 5
}
